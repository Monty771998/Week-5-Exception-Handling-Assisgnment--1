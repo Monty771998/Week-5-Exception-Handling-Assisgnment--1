{
 "cells": [
  {
   "cell_type": "markdown",
   "id": "2758cd1a-7f58-4565-9369-7a397f62658f",
   "metadata": {},
   "source": [
    "Q1. What is exception in Python? Write the difference between exception and syntax errors?"
   ]
  },
  {
   "cell_type": "markdown",
   "id": "0a1c3736-4582-4754-aa49-a5cb3b113ba4",
   "metadata": {},
   "source": [
    "Exception is event happens when there is problem in exucation of program.Exception can be caused by various factor\n",
    "such as division by zero error,file does not exist etc .\n",
    "While syntax error happens during parsing of program but before exucation of program and they are caused by error in typing,\n",
    "incorrect identation etc."
   ]
  },
  {
   "cell_type": "code",
   "execution_count": null,
   "id": "4b8f3354-303a-4dc0-8074-a7081fd0c291",
   "metadata": {},
   "outputs": [],
   "source": []
  },
  {
   "cell_type": "markdown",
   "id": "817c0502-1f26-42fa-8fff-92542c750345",
   "metadata": {},
   "source": [
    "Q2. What happens when an exception is not handled? Explain with an example"
   ]
  },
  {
   "cell_type": "markdown",
   "id": "d04addf2-48e2-46c8-838c-67f9445fd3e6",
   "metadata": {},
   "source": [
    "When Exception happens in Python program and it is not handled the program will crash . It means program will stop \n",
    "running and error will be shown in console.here is example "
   ]
  },
  {
   "cell_type": "code",
   "execution_count": 1,
   "id": "695c274e-fe62-4f3d-9078-92704d60bed8",
   "metadata": {},
   "outputs": [
    {
     "ename": "ZeroDivisionError",
     "evalue": "division by zero",
     "output_type": "error",
     "traceback": [
      "\u001b[0;31m---------------------------------------------------------------------------\u001b[0m",
      "\u001b[0;31mZeroDivisionError\u001b[0m                         Traceback (most recent call last)",
      "Cell \u001b[0;32mIn[1], line 4\u001b[0m\n\u001b[1;32m      2\u001b[0m     results \u001b[38;5;241m=\u001b[39m num\u001b[38;5;241m/\u001b[39mdenom\n\u001b[1;32m      3\u001b[0m     \u001b[38;5;28;01mreturn\u001b[39;00m results\n\u001b[0;32m----> 4\u001b[0m \u001b[43mdiv_num\u001b[49m\u001b[43m(\u001b[49m\u001b[38;5;241;43m120\u001b[39;49m\u001b[43m,\u001b[49m\u001b[38;5;241;43m0\u001b[39;49m\u001b[43m)\u001b[49m\n",
      "Cell \u001b[0;32mIn[1], line 2\u001b[0m, in \u001b[0;36mdiv_num\u001b[0;34m(num, denom)\u001b[0m\n\u001b[1;32m      1\u001b[0m \u001b[38;5;28;01mdef\u001b[39;00m \u001b[38;5;21mdiv_num\u001b[39m(num,denom):\n\u001b[0;32m----> 2\u001b[0m     results \u001b[38;5;241m=\u001b[39m \u001b[43mnum\u001b[49m\u001b[38;5;241;43m/\u001b[39;49m\u001b[43mdenom\u001b[49m\n\u001b[1;32m      3\u001b[0m     \u001b[38;5;28;01mreturn\u001b[39;00m results\n",
      "\u001b[0;31mZeroDivisionError\u001b[0m: division by zero"
     ]
    }
   ],
   "source": [
    "def div_num(num,denom):\n",
    "    results = num/denom\n",
    "    return results\n",
    "div_num(120,0)"
   ]
  },
  {
   "cell_type": "code",
   "execution_count": null,
   "id": "29cb1a91-effb-4fbc-adfe-03e994abe43d",
   "metadata": {},
   "outputs": [],
   "source": []
  },
  {
   "cell_type": "markdown",
   "id": "53d11411-ea74-4e70-aa6e-962b002db2b0",
   "metadata": {},
   "source": [
    "Q3. Which Python statements are used to catch and handle exceptions? Explain with an example"
   ]
  },
  {
   "cell_type": "markdown",
   "id": "d782f7ff-1698-471b-b9d8-24440d341d92",
   "metadata": {},
   "source": [
    "Try and except statement are used to catch and handle exceptions in python. Try statement exicute the program that\n",
    "may have exceptions if there is exception then it is handled by except statement . here is an example "
   ]
  },
  {
   "cell_type": "code",
   "execution_count": 16,
   "id": "1ef49844-0add-441b-b048-c5bd7f1b71a5",
   "metadata": {},
   "outputs": [
    {
     "name": "stdout",
     "output_type": "stream",
     "text": [
      "[Errno 2] No such file or directory: 'math.txt'\n"
     ]
    }
   ],
   "source": [
    "try:\n",
    "    with open(\"math.txt\",\"r\") as f:\n",
    "        f.read()\n",
    "except FileNotFoundError as e:\n",
    "    print(e)"
   ]
  },
  {
   "cell_type": "markdown",
   "id": "8e822ebe-c615-423b-ae26-9df162e2a87c",
   "metadata": {},
   "source": [
    "here there was an error in try statement because there was no \"math.txt\" file available and it then handled by \n",
    "except statement ."
   ]
  },
  {
   "cell_type": "code",
   "execution_count": null,
   "id": "b1d632e7-7f1c-43d6-963b-187c17f349cb",
   "metadata": {},
   "outputs": [],
   "source": []
  },
  {
   "cell_type": "markdown",
   "id": "d640f33b-ef89-4e10-896e-259139cbf00d",
   "metadata": {},
   "source": [
    "Q4.Explain with an example:\n",
    "\n",
    "a.try and else\n",
    "b.finally\n",
    "c.raise"
   ]
  },
  {
   "cell_type": "markdown",
   "id": "d26adb10-5e4e-49c3-833c-e620dea809df",
   "metadata": {},
   "source": [
    "a. try statement are used to execute the programs that may have exceptions if there is then handled by except statement\n",
    "while else statements are executed when there is no exceptions are found. here is an example"
   ]
  },
  {
   "cell_type": "code",
   "execution_count": 17,
   "id": "0b4c1d69-cc76-41c2-9da2-e79ab2ba219b",
   "metadata": {},
   "outputs": [
    {
     "name": "stdout",
     "output_type": "stream",
     "text": [
      "there was no error\n"
     ]
    }
   ],
   "source": [
    "try:\n",
    "    45/5\n",
    "except ZeroDivisionError as e:\n",
    "    print(e)\n",
    "else:\n",
    "    print(\"there was no error\")"
   ]
  },
  {
   "cell_type": "markdown",
   "id": "d4d30623-f907-4fc2-bcc5-47d6ec30396f",
   "metadata": {},
   "source": [
    "b. finally statement are execuated whether exception happen or not.example"
   ]
  },
  {
   "cell_type": "code",
   "execution_count": 18,
   "id": "6793f3f2-efbb-4e43-9711-e75e6733007f",
   "metadata": {},
   "outputs": [
    {
     "name": "stdout",
     "output_type": "stream",
     "text": [
      "division by zero\n",
      "I will excuated whether exception happen or not\n"
     ]
    }
   ],
   "source": [
    "try:\n",
    "    45/0\n",
    "except ZeroDivisionError as e:\n",
    "    print(e)\n",
    "else:\n",
    "    print(\"there was no error\")\n",
    "finally:\n",
    "    print (\"I will excuated whether exception happen or not\")"
   ]
  },
  {
   "cell_type": "markdown",
   "id": "fef507af-3874-4859-86a1-350e44805e05",
   "metadata": {},
   "source": [
    "c. raise statement is used to manually raise an exception.example"
   ]
  },
  {
   "cell_type": "code",
   "execution_count": 28,
   "id": "d16d705b-8059-4ca9-9c91-0a53bdca96ac",
   "metadata": {},
   "outputs": [
    {
     "name": "stdout",
     "output_type": "stream",
     "text": [
      "Invalid speed or time value.\n"
     ]
    }
   ],
   "source": [
    "def cal_dis(speed,time):\n",
    "    if speed <=0 or time <=0:\n",
    "        raise ValueError(\"Invalid speed or time value.\")\n",
    "    else :\n",
    "        return speed*time\n",
    "        \n",
    "try:\n",
    "    result= cal_dis(100,-10)\n",
    "except ValueError as e :\n",
    "    print(e)\n",
    "    \n",
    "    \n",
    "    "
   ]
  },
  {
   "cell_type": "code",
   "execution_count": null,
   "id": "7b09bf7c-b612-4c2d-ba8b-beb5c92aec10",
   "metadata": {},
   "outputs": [],
   "source": []
  },
  {
   "cell_type": "markdown",
   "id": "92c5ef70-9fe1-4f79-8ec9-583b3935a540",
   "metadata": {},
   "source": [
    "Q5. What are Custom Exceptions in python? Why do we need Custom Exceptions? Explain with an example"
   ]
  },
  {
   "cell_type": "markdown",
   "id": "fd39429b-fdf7-4854-9197-d3ba0b8c190e",
   "metadata": {},
   "source": [
    "custom exception are exception that are created by a program and it provides more information about \n",
    "errors.We use it because it gives more information about error and we can organise our large set of code by \n",
    "giving specific error that will be helpful in reading codes.example"
   ]
  },
  {
   "cell_type": "code",
   "execution_count": 4,
   "id": "131d2c3e-ef79-4776-928f-438d2bcdecb0",
   "metadata": {},
   "outputs": [
    {
     "name": "stdin",
     "output_type": "stream",
     "text": [
      "enter your marks 800\n"
     ]
    },
    {
     "name": "stdout",
     "output_type": "stream",
     "text": [
      "marks are too high\n"
     ]
    }
   ],
   "source": [
    "class valid_marks(Exception):\n",
    "    def __init__(self,msg):\n",
    "        self.msg = msg\n",
    "        \n",
    "def val_marks(mark):\n",
    "    if mark <=0:\n",
    "        raise valid_marks(\"negative marks\")\n",
    "    elif mark >= 600:\n",
    "        raise valid_marks(\"marks are too high\")\n",
    "    else:\n",
    "        print(\"valid marks\")\n",
    "        \n",
    "try:\n",
    "    mark = int(input(\"enter your marks\"))\n",
    "    val_marks(mark)\n",
    "except valid_marks as e:\n",
    "    print(e)\n",
    "    "
   ]
  },
  {
   "cell_type": "code",
   "execution_count": null,
   "id": "4a77aabb-4123-44ea-8643-7fdcee301fd0",
   "metadata": {},
   "outputs": [],
   "source": []
  },
  {
   "cell_type": "markdown",
   "id": "cb24a8ae-9a3a-47b4-897e-61317572d59a",
   "metadata": {},
   "source": [
    "Q6. Create custom exception class. Use this clss to handle an exception."
   ]
  },
  {
   "cell_type": "code",
   "execution_count": 4,
   "id": "1edd2d14-628f-47f9-8ccd-b47b0993319d",
   "metadata": {},
   "outputs": [
    {
     "name": "stdin",
     "output_type": "stream",
     "text": [
      "enter your height -12\n"
     ]
    },
    {
     "name": "stdout",
     "output_type": "stream",
     "text": [
      "negative height\n"
     ]
    }
   ],
   "source": [
    "class valid_height(Exception):\n",
    "    def __init__(self,msg):\n",
    "        self.msg = msg\n",
    "        \n",
    "def val_height(height):\n",
    "    if height <=0  :\n",
    "        raise valid_height(\"negative height\")\n",
    "    elif height >= 200 :\n",
    "        raise valid_height(\"height are too high\")\n",
    "    else:\n",
    "        print(\"valid height\")\n",
    "        \n",
    "try:\n",
    "    height = int(input(\"enter your height\"))\n",
    "    val_height(height)\n",
    "except valid_height as e:\n",
    "    print(e)\n",
    "    "
   ]
  },
  {
   "cell_type": "code",
   "execution_count": null,
   "id": "721f901e-f644-4179-9ac7-bdb61f0ff044",
   "metadata": {},
   "outputs": [],
   "source": []
  },
  {
   "cell_type": "code",
   "execution_count": null,
   "id": "86d97217-5d33-4df7-a55a-32791734d5b9",
   "metadata": {},
   "outputs": [],
   "source": []
  }
 ],
 "metadata": {
  "kernelspec": {
   "display_name": "Python 3 (ipykernel)",
   "language": "python",
   "name": "python3"
  },
  "language_info": {
   "codemirror_mode": {
    "name": "ipython",
    "version": 3
   },
   "file_extension": ".py",
   "mimetype": "text/x-python",
   "name": "python",
   "nbconvert_exporter": "python",
   "pygments_lexer": "ipython3",
   "version": "3.10.8"
  }
 },
 "nbformat": 4,
 "nbformat_minor": 5
}
